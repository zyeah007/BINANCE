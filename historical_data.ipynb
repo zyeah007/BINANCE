{
 "cells": [
  {
   "cell_type": "code",
   "execution_count": 1,
   "id": "c12512b1",
   "metadata": {},
   "outputs": [],
   "source": [
    "import requests\n",
    "import os\n",
    "from DataQuery import Kline\n",
    "from DataRead import Read"
   ]
  },
  {
   "cell_type": "code",
   "execution_count": 42,
   "id": "53c9b85e",
   "metadata": {},
   "outputs": [],
   "source": [
    "market='BTCUSDT'\n",
    "freq='4h'\n",
    "kline=Kline(market=market, freq=freq)"
   ]
  },
  {
   "cell_type": "code",
   "execution_count": 43,
   "id": "1d7dd30c",
   "metadata": {},
   "outputs": [
    {
     "name": "stdout",
     "output_type": "stream",
     "text": [
      "open_time          1502942400000\n",
      "open                     4261.48\n",
      "high                     4349.99\n",
      "low                      4261.32\n",
      "close                    4349.99\n",
      "turnover_volume        82.088865\n",
      "close_time         1502956799999\n",
      "turnover_value      353194.33293\n",
      "deal_num                     334\n",
      "bid_volume             64.013727\n",
      "bid_value          275647.421911\n",
      "other                          0\n",
      "symbol                   BTCUSDT\n",
      "Name: 2017-08-17 12:00:00, dtype: object\n",
      "\n",
      "\n",
      "\n",
      "open_time             1666497600000\n",
      "open                       19197.55\n",
      "high                       19221.71\n",
      "low                        19148.01\n",
      "close                      19161.67\n",
      "turnover_volume         16787.17386\n",
      "close_time            1666511999999\n",
      "turnover_value     321999875.261674\n",
      "deal_num                     411528\n",
      "bid_volume               7958.46906\n",
      "bid_value          152658699.944604\n",
      "other                             0\n",
      "symbol                      BTCUSDT\n",
      "Name: 2022-10-23 12:00:00, dtype: object\n"
     ]
    }
   ],
   "source": [
    "read=Read()\n",
    "df_kline=read.read_kline(market=market, freq_type=freq)\n",
    "print(df_kline.iloc[0])\n",
    "print('\\n'*2)\n",
    "print(df_kline.iloc[-1])"
   ]
  },
  {
   "cell_type": "code",
   "execution_count": 44,
   "id": "47016a43",
   "metadata": {},
   "outputs": [
    {
     "data": {
      "text/plain": [
       "3424"
      ]
     },
     "execution_count": 44,
     "metadata": {},
     "output_type": "execute_result"
    }
   ],
   "source": [
    "len(df_kline)"
   ]
  },
  {
   "cell_type": "code",
   "execution_count": 38,
   "id": "df552aed",
   "metadata": {},
   "outputs": [
    {
     "data": {
      "text/plain": [
       "3421"
      ]
     },
     "execution_count": 38,
     "metadata": {},
     "output_type": "execute_result"
    }
   ],
   "source": [
    "df2=df_kline.drop_duplicates(subset=['open_time'])\n",
    "len(df2)"
   ]
  },
  {
   "cell_type": "code",
   "execution_count": null,
   "id": "5e7cfb94",
   "metadata": {},
   "outputs": [],
   "source": []
  },
  {
   "cell_type": "code",
   "execution_count": null,
   "id": "642c2d6d",
   "metadata": {},
   "outputs": [],
   "source": []
  }
 ],
 "metadata": {
  "kernelspec": {
   "display_name": "Python 3 (ipykernel)",
   "language": "python",
   "name": "python3"
  },
  "language_info": {
   "codemirror_mode": {
    "name": "ipython",
    "version": 3
   },
   "file_extension": ".py",
   "mimetype": "text/x-python",
   "name": "python",
   "nbconvert_exporter": "python",
   "pygments_lexer": "ipython3",
   "version": "3.9.12"
  }
 },
 "nbformat": 4,
 "nbformat_minor": 5
}
