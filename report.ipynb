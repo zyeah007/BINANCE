{
 "cells": [
  {
   "cell_type": "markdown",
   "id": "cdd2c427",
   "metadata": {},
   "source": [
    "策略1:有套利机会，加杠杆；  \n",
    "策略2:不加杠杆的，寻找短期爆发的币。"
   ]
  },
  {
   "cell_type": "markdown",
   "id": "faa97ac3",
   "metadata": {},
   "source": [
    "研究：大行情后，收益率走势；  \n",
    "山寨币短期爆发前是否有规律。"
   ]
  },
  {
   "cell_type": "code",
   "execution_count": 1,
   "id": "5e45fdc1",
   "metadata": {},
   "outputs": [],
   "source": [
    "import os\n",
    "import pandas as pd\n",
    "import numpy as np\n",
    "import time\n",
    "from datetime import datetime, timedelta\n",
    "from dateutil.relativedelta import relativedelta\n",
    "from statsmodels.tsa.stattools import adfuller as adf_test\n",
    "from DataRead import Read, Analysis, Plot, Report, TOP_VALUABLE_MARKETS\n",
    "from DataQuery import Ticker, Kline, Query\n",
    "from Tactic import MACD, SMA, MultiTacs, Tactic\n",
    "from pyecharts.charts import Line, Bar\n",
    "\n",
    "%matplotlib inline"
   ]
  },
  {
   "cell_type": "markdown",
   "id": "93c37914",
   "metadata": {},
   "source": [
    "## 主流币的走势"
   ]
  },
  {
   "cell_type": "code",
   "execution_count": 5,
   "id": "b5a2c1de",
   "metadata": {},
   "outputs": [
    {
     "name": "stdout",
     "output_type": "stream",
     "text": [
      "\n",
      "\n",
      "------------------------------\n",
      "\n",
      "本次运行时间:2024-05-05 17:17:00\n",
      "<TRXUSDT-1d>数据量为<0>,不足以进行<交易量>趋势检验.\n",
      "<TRXUSDT-1d>数据量为<0>,不足以进行<相对价格>趋势检验.\n",
      "\n",
      "\n",
      "done!\n"
     ]
    }
   ],
   "source": [
    "end_date=datetime.today()\n",
    "days_range=30\n",
    "start_date=end_date+timedelta(days=-days_range)\n",
    "start_str=datetime.strftime(start_date, \"%Y-%m-%d\")\n",
    "end_str=datetime.strftime(end_date, \"%Y-%m-%d\")\n",
    "freq='1d'\n",
    "markets = TOP_VALUABLE_MARKETS.copy()\n",
    "\n",
    "report = Report()\n",
    "analysis=Analysis()\n",
    "plot=Plot()\n",
    "\n",
    "df_top_mkts = report.report_markets_indicators(markets=markets, interval=freq, start=start_date, end=end_date)\n",
    "line_daily_return=plot.lineplot_individual_returns(markets=markets,interval=freq,start=start_date,end=end_date)\n",
    "line_accumulative_return=plot.lineplot_accumulative_returns(markets=markets,interval=freq,start=start_date,end=end_date)"
   ]
  },
  {
   "cell_type": "markdown",
   "id": "4f574696",
   "metadata": {},
   "source": [
    "### 简单统计"
   ]
  },
  {
   "cell_type": "code",
   "execution_count": 6,
   "id": "5a67dd3f",
   "metadata": {},
   "outputs": [
    {
     "name": "stdout",
     "output_type": "stream",
     "text": [
      "<2024-04-05> 至 <2024-05-05> 期间走势如下:\n"
     ]
    },
    {
     "data": {
      "text/html": [
       "<div>\n",
       "<style scoped>\n",
       "    .dataframe tbody tr th:only-of-type {\n",
       "        vertical-align: middle;\n",
       "    }\n",
       "\n",
       "    .dataframe tbody tr th {\n",
       "        vertical-align: top;\n",
       "    }\n",
       "\n",
       "    .dataframe thead th {\n",
       "        text-align: right;\n",
       "    }\n",
       "</style>\n",
       "<table border=\"1\" class=\"dataframe\">\n",
       "  <thead>\n",
       "    <tr style=\"text-align: right;\">\n",
       "      <th></th>\n",
       "      <th>货币名称</th>\n",
       "      <th>平均收益率</th>\n",
       "      <th>累计收益率</th>\n",
       "      <th>收益波动率</th>\n",
       "      <th>离散系数</th>\n",
       "      <th>波动率(年化)</th>\n",
       "      <th>交易量趋势</th>\n",
       "      <th>相对BTC价格趋势</th>\n",
       "    </tr>\n",
       "  </thead>\n",
       "  <tbody>\n",
       "    <tr>\n",
       "      <th>0</th>\n",
       "      <td>BTCUSDT</td>\n",
       "      <td>-0.002800</td>\n",
       "      <td>-0.0840</td>\n",
       "      <td>0.027937</td>\n",
       "      <td>-9.977539</td>\n",
       "      <td>0.153018</td>\n",
       "      <td>趋势减少</td>\n",
       "      <td>无变化</td>\n",
       "    </tr>\n",
       "    <tr>\n",
       "      <th>1</th>\n",
       "      <td>ETHUSDT</td>\n",
       "      <td>-0.002680</td>\n",
       "      <td>-0.0804</td>\n",
       "      <td>0.034423</td>\n",
       "      <td>-12.844336</td>\n",
       "      <td>0.188542</td>\n",
       "      <td>趋势减少</td>\n",
       "      <td>趋势增加</td>\n",
       "    </tr>\n",
       "    <tr>\n",
       "      <th>2</th>\n",
       "      <td>BNBUSDT</td>\n",
       "      <td>-0.000243</td>\n",
       "      <td>-0.0073</td>\n",
       "      <td>0.025822</td>\n",
       "      <td>-106.117146</td>\n",
       "      <td>0.141432</td>\n",
       "      <td>没有明显变化趋势</td>\n",
       "      <td>趋势增加</td>\n",
       "    </tr>\n",
       "    <tr>\n",
       "      <th>3</th>\n",
       "      <td>SOLUSDT</td>\n",
       "      <td>-0.007117</td>\n",
       "      <td>-0.2135</td>\n",
       "      <td>0.049985</td>\n",
       "      <td>-7.023628</td>\n",
       "      <td>0.273778</td>\n",
       "      <td>趋势减少</td>\n",
       "      <td>趋势减少</td>\n",
       "    </tr>\n",
       "    <tr>\n",
       "      <th>4</th>\n",
       "      <td>XRPUSDT</td>\n",
       "      <td>-0.003883</td>\n",
       "      <td>-0.1165</td>\n",
       "      <td>0.038933</td>\n",
       "      <td>-10.025634</td>\n",
       "      <td>0.213244</td>\n",
       "      <td>趋势减少</td>\n",
       "      <td>趋势减少</td>\n",
       "    </tr>\n",
       "    <tr>\n",
       "      <th>5</th>\n",
       "      <td>DOGEUSDT</td>\n",
       "      <td>-0.005553</td>\n",
       "      <td>-0.1666</td>\n",
       "      <td>0.053228</td>\n",
       "      <td>-9.584956</td>\n",
       "      <td>0.291544</td>\n",
       "      <td>趋势减少</td>\n",
       "      <td>趋势减少</td>\n",
       "    </tr>\n",
       "    <tr>\n",
       "      <th>6</th>\n",
       "      <td>ADAUSDT</td>\n",
       "      <td>-0.008140</td>\n",
       "      <td>-0.2442</td>\n",
       "      <td>0.045433</td>\n",
       "      <td>-5.581422</td>\n",
       "      <td>0.248846</td>\n",
       "      <td>趋势减少</td>\n",
       "      <td>趋势减少</td>\n",
       "    </tr>\n",
       "    <tr>\n",
       "      <th>7</th>\n",
       "      <td>SHIBUSDT</td>\n",
       "      <td>-0.003557</td>\n",
       "      <td>-0.1067</td>\n",
       "      <td>0.054096</td>\n",
       "      <td>-15.209712</td>\n",
       "      <td>0.296295</td>\n",
       "      <td>趋势减少</td>\n",
       "      <td>趋势增加</td>\n",
       "    </tr>\n",
       "    <tr>\n",
       "      <th>8</th>\n",
       "      <td>AVAXUSDT</td>\n",
       "      <td>-0.008667</td>\n",
       "      <td>-0.2600</td>\n",
       "      <td>0.057622</td>\n",
       "      <td>-6.648699</td>\n",
       "      <td>0.315609</td>\n",
       "      <td>趋势减少</td>\n",
       "      <td>趋势减少</td>\n",
       "    </tr>\n",
       "    <tr>\n",
       "      <th>10</th>\n",
       "      <td>DOTUSDT</td>\n",
       "      <td>-0.006127</td>\n",
       "      <td>-0.1838</td>\n",
       "      <td>0.047828</td>\n",
       "      <td>-7.806480</td>\n",
       "      <td>0.261963</td>\n",
       "      <td>趋势减少</td>\n",
       "      <td>趋势减少</td>\n",
       "    </tr>\n",
       "    <tr>\n",
       "      <th>11</th>\n",
       "      <td>BCHUSDT</td>\n",
       "      <td>-0.013910</td>\n",
       "      <td>-0.4173</td>\n",
       "      <td>0.047268</td>\n",
       "      <td>-3.398120</td>\n",
       "      <td>0.258897</td>\n",
       "      <td>趋势减少</td>\n",
       "      <td>趋势减少</td>\n",
       "    </tr>\n",
       "    <tr>\n",
       "      <th>12</th>\n",
       "      <td>LINKUSDT</td>\n",
       "      <td>-0.007010</td>\n",
       "      <td>-0.2103</td>\n",
       "      <td>0.047525</td>\n",
       "      <td>-6.779550</td>\n",
       "      <td>0.260303</td>\n",
       "      <td>趋势减少</td>\n",
       "      <td>趋势减少</td>\n",
       "    </tr>\n",
       "    <tr>\n",
       "      <th>13</th>\n",
       "      <td>NEARUSDT</td>\n",
       "      <td>-0.001137</td>\n",
       "      <td>-0.0341</td>\n",
       "      <td>0.065795</td>\n",
       "      <td>-57.884563</td>\n",
       "      <td>0.360377</td>\n",
       "      <td>趋势增加</td>\n",
       "      <td>趋势增加</td>\n",
       "    </tr>\n",
       "    <tr>\n",
       "      <th>14</th>\n",
       "      <td>MATICUSDT</td>\n",
       "      <td>-0.007153</td>\n",
       "      <td>-0.2146</td>\n",
       "      <td>0.051642</td>\n",
       "      <td>-7.219285</td>\n",
       "      <td>0.282855</td>\n",
       "      <td>趋势减少</td>\n",
       "      <td>趋势减少</td>\n",
       "    </tr>\n",
       "    <tr>\n",
       "      <th>15</th>\n",
       "      <td>ICPUSDT</td>\n",
       "      <td>-0.009267</td>\n",
       "      <td>-0.2780</td>\n",
       "      <td>0.050722</td>\n",
       "      <td>-5.473621</td>\n",
       "      <td>0.277817</td>\n",
       "      <td>趋势增加</td>\n",
       "      <td>趋势减少</td>\n",
       "    </tr>\n",
       "    <tr>\n",
       "      <th>16</th>\n",
       "      <td>LTCUSDT</td>\n",
       "      <td>-0.007457</td>\n",
       "      <td>-0.2237</td>\n",
       "      <td>0.039402</td>\n",
       "      <td>-5.284087</td>\n",
       "      <td>0.215812</td>\n",
       "      <td>趋势减少</td>\n",
       "      <td>趋势减少</td>\n",
       "    </tr>\n",
       "    <tr>\n",
       "      <th>17</th>\n",
       "      <td>DAIUSDT</td>\n",
       "      <td>-0.000630</td>\n",
       "      <td>-0.0189</td>\n",
       "      <td>0.011212</td>\n",
       "      <td>-17.796785</td>\n",
       "      <td>0.061411</td>\n",
       "      <td>趋势减少</td>\n",
       "      <td>趋势增加</td>\n",
       "    </tr>\n",
       "    <tr>\n",
       "      <th>18</th>\n",
       "      <td>UNIUSDT</td>\n",
       "      <td>-0.013253</td>\n",
       "      <td>-0.3976</td>\n",
       "      <td>0.053773</td>\n",
       "      <td>-4.057324</td>\n",
       "      <td>0.294527</td>\n",
       "      <td>趋势减少</td>\n",
       "      <td>趋势减少</td>\n",
       "    </tr>\n",
       "  </tbody>\n",
       "</table>\n",
       "</div>"
      ],
      "text/plain": [
       "         货币名称     平均收益率   累计收益率     收益波动率        离散系数   波动率(年化)     交易量趋势  \\\n",
       "0     BTCUSDT -0.002800 -0.0840  0.027937   -9.977539  0.153018      趋势减少   \n",
       "1     ETHUSDT -0.002680 -0.0804  0.034423  -12.844336  0.188542      趋势减少   \n",
       "2     BNBUSDT -0.000243 -0.0073  0.025822 -106.117146  0.141432  没有明显变化趋势   \n",
       "3     SOLUSDT -0.007117 -0.2135  0.049985   -7.023628  0.273778      趋势减少   \n",
       "4     XRPUSDT -0.003883 -0.1165  0.038933  -10.025634  0.213244      趋势减少   \n",
       "5    DOGEUSDT -0.005553 -0.1666  0.053228   -9.584956  0.291544      趋势减少   \n",
       "6     ADAUSDT -0.008140 -0.2442  0.045433   -5.581422  0.248846      趋势减少   \n",
       "7    SHIBUSDT -0.003557 -0.1067  0.054096  -15.209712  0.296295      趋势减少   \n",
       "8    AVAXUSDT -0.008667 -0.2600  0.057622   -6.648699  0.315609      趋势减少   \n",
       "10    DOTUSDT -0.006127 -0.1838  0.047828   -7.806480  0.261963      趋势减少   \n",
       "11    BCHUSDT -0.013910 -0.4173  0.047268   -3.398120  0.258897      趋势减少   \n",
       "12   LINKUSDT -0.007010 -0.2103  0.047525   -6.779550  0.260303      趋势减少   \n",
       "13   NEARUSDT -0.001137 -0.0341  0.065795  -57.884563  0.360377      趋势增加   \n",
       "14  MATICUSDT -0.007153 -0.2146  0.051642   -7.219285  0.282855      趋势减少   \n",
       "15    ICPUSDT -0.009267 -0.2780  0.050722   -5.473621  0.277817      趋势增加   \n",
       "16    LTCUSDT -0.007457 -0.2237  0.039402   -5.284087  0.215812      趋势减少   \n",
       "17    DAIUSDT -0.000630 -0.0189  0.011212  -17.796785  0.061411      趋势减少   \n",
       "18    UNIUSDT -0.013253 -0.3976  0.053773   -4.057324  0.294527      趋势减少   \n",
       "\n",
       "   相对BTC价格趋势  \n",
       "0        无变化  \n",
       "1       趋势增加  \n",
       "2       趋势增加  \n",
       "3       趋势减少  \n",
       "4       趋势减少  \n",
       "5       趋势减少  \n",
       "6       趋势减少  \n",
       "7       趋势增加  \n",
       "8       趋势减少  \n",
       "10      趋势减少  \n",
       "11      趋势减少  \n",
       "12      趋势减少  \n",
       "13      趋势增加  \n",
       "14      趋势减少  \n",
       "15      趋势减少  \n",
       "16      趋势减少  \n",
       "17      趋势增加  \n",
       "18      趋势减少  "
      ]
     },
     "execution_count": 6,
     "metadata": {},
     "output_type": "execute_result"
    }
   ],
   "source": [
    "print('<{start}> 至 <{end}> 期间走势如下:'.format(start=start_str, end=end_str))\n",
    "df_top_mkts.dropna()"
   ]
  },
  {
   "cell_type": "markdown",
   "id": "913ad036",
   "metadata": {},
   "source": [
    "### 每天收益率走势"
   ]
  },
  {
   "cell_type": "code",
   "execution_count": null,
   "id": "7bbafc7f",
   "metadata": {},
   "outputs": [],
   "source": [
    "line_daily_return.render_notebook()"
   ]
  },
  {
   "cell_type": "markdown",
   "id": "2eb86dba",
   "metadata": {},
   "source": [
    "### 累计收益率走势"
   ]
  },
  {
   "cell_type": "code",
   "execution_count": null,
   "id": "59143006",
   "metadata": {},
   "outputs": [],
   "source": [
    "line_accumulative_return.render_notebook()"
   ]
  },
  {
   "cell_type": "markdown",
   "id": "c83e659e",
   "metadata": {},
   "source": [
    "## 近期表现最好和最差的货币"
   ]
  },
  {
   "cell_type": "markdown",
   "id": "2b72c6bf",
   "metadata": {},
   "source": [
    "### 涨幅大的"
   ]
  },
  {
   "cell_type": "code",
   "execution_count": null,
   "id": "a67c824a",
   "metadata": {},
   "outputs": [],
   "source": [
    "analysis=Analysis()\n",
    "plot = Plot()\n",
    "end_date=datetime.today()\n",
    "days_range=10\n",
    "start_date=end_date+timedelta(days=-days_range)\n",
    "freq='1d'\n",
    "n=10\n",
    "\n",
    "best_n=analysis.best_performed_of_last_n(interval=freq, num=n, start=start_date, end=end_date)\n",
    "line_best_n=plot.plot_top_return_markets(interval=freq, num=10, start=start_date, end=end_date)"
   ]
  },
  {
   "cell_type": "code",
   "execution_count": null,
   "id": "5d6f5c8b",
   "metadata": {},
   "outputs": [],
   "source": [
    "best_n"
   ]
  },
  {
   "cell_type": "code",
   "execution_count": null,
   "id": "f51fdccb",
   "metadata": {},
   "outputs": [],
   "source": [
    "line_best_n.render_notebook()"
   ]
  },
  {
   "cell_type": "markdown",
   "id": "ebf063fa",
   "metadata": {},
   "source": [
    "### 跌幅大的"
   ]
  },
  {
   "cell_type": "code",
   "execution_count": null,
   "id": "755a5e30",
   "metadata": {},
   "outputs": [],
   "source": [
    "worst_n=analysis.worst_performed_of_last_n(interval=freq, num=n, start=start_date, end=end_date)\n",
    "line_worst_n=plot.plot_worst_return_markets(interval=freq, num=10, start=start_date, end=end_date)"
   ]
  },
  {
   "cell_type": "code",
   "execution_count": null,
   "id": "33d0fe1e",
   "metadata": {},
   "outputs": [],
   "source": [
    "worst_n"
   ]
  },
  {
   "cell_type": "code",
   "execution_count": null,
   "id": "48964906",
   "metadata": {},
   "outputs": [],
   "source": [
    "line_worst_n.render_notebook()"
   ]
  },
  {
   "cell_type": "markdown",
   "id": "35752021",
   "metadata": {},
   "source": [
    "## 与BTC相关性"
   ]
  },
  {
   "cell_type": "markdown",
   "id": "6d935e38",
   "metadata": {},
   "source": [
    "### Pearson相关系数矩阵"
   ]
  },
  {
   "cell_type": "code",
   "execution_count": null,
   "id": "c236b66d",
   "metadata": {},
   "outputs": [],
   "source": [
    "plot=Plot()\n",
    "analysis=Analysis()\n",
    "win=30\n",
    "end_date=datetime.today()\n",
    "days_range=100\n",
    "start_date=end_date+timedelta(days=-days_range)\n",
    "freq='1d'\n",
    "markets = TOP_VALUABLE_MARKETS[:7].copy()\n",
    "\n",
    "matrix=analysis.yield_corr_matrix(markets=markets, interval=freq, start=start_date,end=end_date)"
   ]
  },
  {
   "cell_type": "code",
   "execution_count": null,
   "id": "c9ef2f0d",
   "metadata": {},
   "outputs": [],
   "source": [
    "c = plot.plot_corr_matrix(markets=markets, interval=freq, start=start_date,end=end_date)\n",
    "c.render_notebook()"
   ]
  },
  {
   "cell_type": "markdown",
   "id": "606bf23e",
   "metadata": {},
   "source": [
    "### 相关系数走势"
   ]
  },
  {
   "cell_type": "code",
   "execution_count": null,
   "id": "1f5c949c",
   "metadata": {},
   "outputs": [],
   "source": [
    "df=analysis.yield_corr_to_btc(markets=markets, interval=freq, start=start_date,end=end_date,window=30)\n",
    "line=plot.pyecharts_line_plot(df)\n",
    "line.render_notebook()"
   ]
  },
  {
   "cell_type": "markdown",
   "id": "b2881b22",
   "metadata": {},
   "source": [
    "## 收益波动分析"
   ]
  },
  {
   "cell_type": "code",
   "execution_count": 45,
   "id": "a3fe23d7",
   "metadata": {},
   "outputs": [],
   "source": [
    "end_date=datetime.today()\n",
    "days_range=50\n",
    "start_date=end_date+timedelta(days=-days_range)\n",
    "start_str=datetime.strftime(start_date, \"%Y-%m-%d\")\n",
    "end_str=datetime.strftime(end_date, \"%Y-%m-%d\")\n",
    "freq='1d'\n",
    "read=Read()\n",
    "analysis=Analysis()"
   ]
  },
  {
   "cell_type": "code",
   "execution_count": 46,
   "id": "5162d9fd",
   "metadata": {},
   "outputs": [],
   "source": [
    "diff = analysis.return_diff(market_pair=['BTCUSDT','ETHUSDT'], interval=freq,\n",
    "                            start=start_date, end=end_date)"
   ]
  },
  {
   "cell_type": "code",
   "execution_count": 47,
   "id": "ac8bb58b",
   "metadata": {},
   "outputs": [
    {
     "data": {
      "text/plain": [
       "{'market_1': 'BTCUSDT',\n",
       " 'market_2': 'ETHUSDT',\n",
       " 'return_diff': 0.0017,\n",
       " 'daily_diff': 0.0017,\n",
       " 'diff_std': 0.017,\n",
       " 'p_value': 0.0}"
      ]
     },
     "execution_count": 47,
     "metadata": {},
     "output_type": "execute_result"
    }
   ],
   "source": [
    "diff"
   ]
  },
  {
   "cell_type": "code",
   "execution_count": 48,
   "id": "b157fc8d",
   "metadata": {},
   "outputs": [],
   "source": [
    "merge=analysis.merge_data_for_markets(markets=['BTCUSDT','ETHUSDT'], interval=freq,\n",
    "                                     start=start_date, end=end_date)"
   ]
  },
  {
   "cell_type": "code",
   "execution_count": 49,
   "id": "9780d48b",
   "metadata": {},
   "outputs": [],
   "source": [
    "merge['diff']=merge['BTC']-merge['ETH']"
   ]
  },
  {
   "cell_type": "code",
   "execution_count": 50,
   "id": "9472b2a2",
   "metadata": {},
   "outputs": [
    {
     "data": {
      "text/plain": [
       "BTC     0.032000\n",
       "ETH     0.038271\n",
       "diff    0.017026\n",
       "dtype: float64"
      ]
     },
     "execution_count": 50,
     "metadata": {},
     "output_type": "execute_result"
    }
   ],
   "source": [
    "merge.std()"
   ]
  },
  {
   "cell_type": "code",
   "execution_count": 43,
   "id": "bdc6121a",
   "metadata": {},
   "outputs": [
    {
     "data": {
      "text/plain": [
       "BTC     0.032022\n",
       "ETH     0.034243\n",
       "diff    0.018392\n",
       "dtype: float64"
      ]
     },
     "execution_count": 43,
     "metadata": {},
     "output_type": "execute_result"
    }
   ],
   "source": [
    "merge.std()"
   ]
  },
  {
   "cell_type": "code",
   "execution_count": 51,
   "id": "8ddbf1a8",
   "metadata": {},
   "outputs": [
    {
     "data": {
      "text/plain": [
       "BTC    -0.001554\n",
       "ETH    -0.003276\n",
       "diff    0.001722\n",
       "dtype: float64"
      ]
     },
     "execution_count": 51,
     "metadata": {},
     "output_type": "execute_result"
    }
   ],
   "source": [
    "merge.mean()"
   ]
  },
  {
   "cell_type": "code",
   "execution_count": 44,
   "id": "a1b5957c",
   "metadata": {},
   "outputs": [
    {
     "data": {
      "text/plain": [
       "BTC     0.004267\n",
       "ETH     0.002958\n",
       "diff    0.001309\n",
       "dtype: float64"
      ]
     },
     "execution_count": 44,
     "metadata": {},
     "output_type": "execute_result"
    }
   ],
   "source": [
    "merge.mean()"
   ]
  },
  {
   "cell_type": "code",
   "execution_count": null,
   "id": "e4406310",
   "metadata": {},
   "outputs": [],
   "source": []
  }
 ],
 "metadata": {
  "kernelspec": {
   "display_name": "Python 3 (ipykernel)",
   "language": "python",
   "name": "python3"
  },
  "language_info": {
   "codemirror_mode": {
    "name": "ipython",
    "version": 3
   },
   "file_extension": ".py",
   "mimetype": "text/x-python",
   "name": "python",
   "nbconvert_exporter": "python",
   "pygments_lexer": "ipython3",
   "version": "3.9.13"
  },
  "toc": {
   "base_numbering": 1,
   "nav_menu": {
    "height": "155px",
    "width": "217px"
   },
   "number_sections": true,
   "sideBar": true,
   "skip_h1_title": false,
   "title_cell": "Table of Contents",
   "title_sidebar": "Contents",
   "toc_cell": false,
   "toc_position": {
    "height": "591px",
    "left": "1083px",
    "top": "110px",
    "width": "192px"
   },
   "toc_section_display": true,
   "toc_window_display": true
  }
 },
 "nbformat": 4,
 "nbformat_minor": 5
}
