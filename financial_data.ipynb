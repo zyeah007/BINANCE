{
 "cells": [
  {
   "cell_type": "code",
   "execution_count": 1,
   "id": "0728a600",
   "metadata": {},
   "outputs": [],
   "source": [
    "import time\n",
    "import pandas as pd\n",
    "import numpy as np\n",
    "\n",
    "import os\n",
    "\n",
    "import json\n",
    "\n",
    "import codecs\n",
    "\n",
    "import requests\n",
    "\n",
    "from DataQuery import Kline"
   ]
  },
  {
   "cell_type": "code",
   "execution_count": 4,
   "id": "27def06c",
   "metadata": {},
   "outputs": [],
   "source": [
    "mkt='BTCUSDT'\n",
    "freq='1d'\n",
    "kline=Kline(market=mkt, freq=freq)"
   ]
  },
  {
   "cell_type": "code",
   "execution_count": 8,
   "id": "8a53ec47",
   "metadata": {},
   "outputs": [],
   "source": [
    "kline_url=kline.get_url()"
   ]
  },
  {
   "cell_type": "code",
   "execution_count": 40,
   "id": "e96f8620",
   "metadata": {},
   "outputs": [],
   "source": [
    "HEADERS = {\n",
    "    'User-Agent': 'Mozilla/5.0 (Macintosh; Intel Mac OS X 10_15_7) AppleWebKit/605.1.15 (KHTML, like Gecko) Version/16.1 Safari/605.1.15',\n",
    "    \"Accept-Language\":\"zh-CN,zh-Hans;q=0.9\",\n",
    "    \"Host\":\"api.zb.com\",\n",
    "    'Accept': 'text/html,application/xhtml+xml,application/xml;q=0.9,*/*;q=0.8',\n",
    "    'Accept-Encoding': 'gzip, deflate, br',\n",
    "    'Connection':'close'\n",
    "}"
   ]
  },
  {
   "cell_type": "code",
   "execution_count": 3,
   "id": "56014fe8",
   "metadata": {},
   "outputs": [],
   "source": [
    "url='https://api.binance.com/api/v3/klines?symbol=BTCUSDT&interval=1d'"
   ]
  },
  {
   "cell_type": "code",
   "execution_count": 4,
   "id": "5589cddf",
   "metadata": {},
   "outputs": [],
   "source": [
    "r=requests.get(url)"
   ]
  },
  {
   "cell_type": "code",
   "execution_count": null,
   "id": "84527db1",
   "metadata": {},
   "outputs": [],
   "source": []
  },
  {
   "cell_type": "code",
   "execution_count": 31,
   "id": "0b5f7a1a",
   "metadata": {},
   "outputs": [],
   "source": [
    "zb_url='https://api.zb.com/data/v1/allTicker'"
   ]
  },
  {
   "cell_type": "code",
   "execution_count": null,
   "id": "d729fe7e",
   "metadata": {},
   "outputs": [],
   "source": [
    "r=requests.get(zb_url)"
   ]
  },
  {
   "cell_type": "code",
   "execution_count": 4,
   "id": "682558d9",
   "metadata": {},
   "outputs": [],
   "source": [
    "path='/Users/zhengye/PycharmProjects/BINANCE/tradeData/temp/1d/BTCUSDT-1d.json'\n",
    "with codecs.open(path,'r','utf-8') as f:\n",
    "    json_data=json.load(f)"
   ]
  },
  {
   "cell_type": "code",
   "execution_count": 12,
   "id": "815204fb",
   "metadata": {},
   "outputs": [],
   "source": [
    "r_info={}\n",
    "r_info['symbol']='BTCUDST'\n",
    "r_info['data']=json_data"
   ]
  },
  {
   "cell_type": "code",
   "execution_count": null,
   "id": "94309e59",
   "metadata": {},
   "outputs": [],
   "source": []
  }
 ],
 "metadata": {
  "kernelspec": {
   "display_name": "Python 3 (ipykernel)",
   "language": "python",
   "name": "python3"
  },
  "language_info": {
   "codemirror_mode": {
    "name": "ipython",
    "version": 3
   },
   "file_extension": ".py",
   "mimetype": "text/x-python",
   "name": "python",
   "nbconvert_exporter": "python",
   "pygments_lexer": "ipython3",
   "version": "3.9.12"
  }
 },
 "nbformat": 4,
 "nbformat_minor": 5
}
