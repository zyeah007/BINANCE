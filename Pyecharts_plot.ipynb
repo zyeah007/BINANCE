{
 "cells": [
  {
   "cell_type": "markdown",
   "id": "75c411f1",
   "metadata": {},
   "source": [
    "# 用PyEcharts绘图"
   ]
  },
  {
   "cell_type": "code",
   "execution_count": 1,
   "id": "ec3b5480",
   "metadata": {},
   "outputs": [],
   "source": [
    "import pyecharts.options as opts\n",
    "from pyecharts.charts import Line"
   ]
  },
  {
   "cell_type": "code",
   "execution_count": null,
   "id": "38d8efcb",
   "metadata": {},
   "outputs": [],
   "source": []
  }
 ],
 "metadata": {
  "kernelspec": {
   "display_name": "Python 3 (ipykernel)",
   "language": "python",
   "name": "python3"
  },
  "language_info": {
   "codemirror_mode": {
    "name": "ipython",
    "version": 3
   },
   "file_extension": ".py",
   "mimetype": "text/x-python",
   "name": "python",
   "nbconvert_exporter": "python",
   "pygments_lexer": "ipython3",
   "version": "3.9.13"
  }
 },
 "nbformat": 4,
 "nbformat_minor": 5
}
