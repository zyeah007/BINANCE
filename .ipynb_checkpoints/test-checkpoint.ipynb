{
 "cells": [
  {
   "cell_type": "code",
   "execution_count": 1,
   "id": "f9a5c637",
   "metadata": {},
   "outputs": [],
   "source": [
    "import os\n",
    "import json\n",
    "import pandas as pd\n",
    "import numpy as np\n",
    "from urllib.parse import urlencode\n",
    "import requests\n",
    "import codecs\n",
    "import time\n",
    "import datetime"
   ]
  },
  {
   "cell_type": "code",
   "execution_count": 2,
   "id": "093f1203",
   "metadata": {},
   "outputs": [],
   "source": [
    "from DataRead import Read\n",
    "from Tactic import MACD, SMA"
   ]
  },
  {
   "cell_type": "code",
   "execution_count": 7,
   "id": "6107bb50",
   "metadata": {},
   "outputs": [],
   "source": [
    "read=Read()\n",
    "kline=read.read_kline(freq_type='1d',market='ETHUSDT')\n",
    "s_date='2022-1-2'\n",
    "e_date='2022-10-1'\n",
    "\n",
    "short_flag = True\n",
    "\n",
    "macd=MACD()\n",
    "df_ema=macd.ema_tac(df=kline,short=12,long=26,median=9, enable_short=short_flag)\n",
    "df_dea1=macd.dea_tac(df=kline,short=12, long=26, median=9,enable_short=short_flag,to_zero=False)\n",
    "df_dea2=macd.dea_tac(df=kline,short=12, long=26, median=9,enable_short=short_flag,to_zero=True)\n",
    "df_dea=macd.dea_tac(df=kline,short=12, long=26, median=9,enable_short=short_flag)\n",
    "\n",
    "sma=SMA()\n",
    "df_sma=sma.sma_tac(df=kline, sma1=12, sma2=26,enable_short=short_flag)\n",
    "\n",
    "df_sma_test=df_sma[s_date:e_date].copy()\n",
    "df_sma_test=sma.complete_returns(df_sma_test)\n",
    "\n",
    "df_ema_test=df_ema[s_date:e_date].copy()\n",
    "df_ema_test=macd.complete_returns(df_ema_test)\n",
    "\n",
    "df_dea_test1=df_dea1[s_date:e_date].copy()\n",
    "df_dea_test1=macd.complete_returns(df_dea_test1)\n",
    "\n",
    "df_dea_test2=df_dea2[s_date:e_date].copy()\n",
    "df_dea_test2=macd.complete_returns(df_dea_test2)\n",
    "\n",
    "df_dea_test=df_dea[s_date:e_date].copy()\n",
    "df_dea_test=macd.complete_returns(df_dea_test)\n",
    "\n",
    "\n",
    "\n",
    "ema={\n",
    "    'tac_name':'ema',\n",
    "    'price_return':macd.base_return(df_ema_test),\n",
    "    'strategy_return':macd.tac_return(df_ema_test),\n",
    "    'price_drawdown':macd.max_price_drop(df_ema_test),\n",
    "    'strategy_drawdown':macd.max_tac_drawdown(df_ema_test),\n",
    "    \n",
    "}\n",
    "\n",
    "dea1={\n",
    "    'tac_name':'dea1',\n",
    "    'price_return':macd.base_return(df_dea_test1),\n",
    "    'strategy_return':macd.tac_return(df_dea_test1),\n",
    "    'price_drawdown':macd.max_price_drop(df_dea_test1),\n",
    "    'strategy_drawdown':macd.max_tac_drawdown(df_dea_test1),\n",
    "    \n",
    "}\n",
    "\n",
    "dea2={\n",
    "    'tac_name':'dea2',\n",
    "    'price_return':macd.base_return(df_dea_test2),\n",
    "    'strategy_return':macd.tac_return(df_dea_test2),\n",
    "    'price_drawdown':macd.max_price_drop(df_dea_test2),\n",
    "    'strategy_drawdown':macd.max_tac_drawdown(df_dea_test2),\n",
    "    \n",
    "}\n",
    "\n",
    "dea={\n",
    "    'tac_name':'dea2',\n",
    "    'price_return':macd.base_return(df_dea_test),\n",
    "    'strategy_return':macd.tac_return(df_dea_test),\n",
    "    'price_drawdown':macd.max_price_drop(df_dea_test),\n",
    "    'strategy_drawdown':macd.max_tac_drawdown(df_dea_test),\n",
    "    \n",
    "}\n",
    "\n",
    "sma={\n",
    "    'tac_name':'sma',\n",
    "    'price_return':sma.base_return(df_sma_test),\n",
    "    'strategy_return':sma.tac_return(df_sma_test),\n",
    "    'price_drawdown':sma.max_price_drop(df_sma_test),\n",
    "    'strategy_drawdown':sma.max_tac_drawdown(df_sma_test),\n",
    "    \n",
    "}\n",
    "\n",
    "res=pd.DataFrame([ema,dea,sma])"
   ]
  },
  {
   "cell_type": "code",
   "execution_count": 8,
   "id": "e39e67da",
   "metadata": {},
   "outputs": [
    {
     "name": "stdout",
     "output_type": "stream",
     "text": [
      "  tac_name  price_return  strategy_return  price_drawdown  strategy_drawdown\n",
      "0      ema     -0.657341         0.290927         -0.7401            -0.1345\n",
      "1     dea1     -0.657341         0.858348         -0.7401            -0.0325\n",
      "2     dea2     -0.657341         1.011944         -0.7401             0.0000\n",
      "3      sma     -0.657341         1.918979         -0.7401            -0.1505\n"
     ]
    }
   ],
   "source": [
    "print(res)"
   ]
  },
  {
   "cell_type": "code",
   "execution_count": null,
   "id": "7b059b0c",
   "metadata": {},
   "outputs": [],
   "source": [
    "# 格式输出\n",
    "# print('{:^10}|{:^20}|{:^20}'.format('Tac','Price Return','Strategy Return'))\n",
    "# print('{:^10}|{:^20.4f}|{:^20.4f}'.format('EMA',macd.base_return(df_ema_test)-1,macd.tac_return(df_ema_test)-1))\n",
    "# print('{:^10}|{:^20.4f}|{:^20.4f}'.format('DEA',macd.base_return(df_dea_test)-1,macd.tac_return(df_dea_test)-1))\n",
    "# print('{:^10}|{:^20.4f}|{:^20.4f}'.format('SMA',macd.base_return(df_sma_test)-1,macd.tac_return(df_sma_test)-1))"
   ]
  },
  {
   "cell_type": "code",
   "execution_count": null,
   "id": "22591203",
   "metadata": {},
   "outputs": [],
   "source": [
    "# 统计每个策略下交易次数\n",
    "# for test in [df_ema_test, df_dea_test, df_sma_test]:\n",
    "#     test['pos_chg'] = test['Position'] - test['Position'].shift(1)\n",
    "\n",
    "# df_dea_test.to_excel('dea.xlsx')"
   ]
  },
  {
   "cell_type": "markdown",
   "id": "9603c30c",
   "metadata": {},
   "source": [
    "## 画图"
   ]
  },
  {
   "cell_type": "code",
   "execution_count": null,
   "id": "848b11a5",
   "metadata": {},
   "outputs": [],
   "source": [
    "import matplotlib as mpl\n",
    "import matplotlib.pyplot as plt\n",
    "\n",
    "mpl.rcParams['font.sans-serif']=['SimHei']\n",
    "mpl.rcParams['axes.unicode_minus']=False\n",
    "\n",
    "%matplotlib inline"
   ]
  },
  {
   "cell_type": "code",
   "execution_count": null,
   "id": "4c97b19d",
   "metadata": {},
   "outputs": [],
   "source": [
    "def mark_trade(df,col='close'):\n",
    "    for idx in df.index:\n",
    "        mark_text = df.loc[idx,'Direction']\n",
    "        x = idx\n",
    "        y = df.loc[idx,col]\n",
    "        if mark_text == \"B\":\n",
    "            mark_color='r'\n",
    "            plt.scatter(idx, y, c=mark_color, marker='.',s=30)\n",
    "            plt.annotate(mark_text, xy=(x,y), xytext=(x,y*(1-0.005)),weight='bold',color=mark_color)\n",
    "        else:\n",
    "            mark_color='g'\n",
    "            plt.scatter(idx, y, c=mark_color, marker='.',s=30)\n",
    "            plt.annotate(mark_text, xy=(x,y),xytext=(x,y*(1+0.005)),weight='bold',color=mark_color)"
   ]
  },
  {
   "cell_type": "code",
   "execution_count": null,
   "id": "6a16c752",
   "metadata": {},
   "outputs": [],
   "source": [
    "df=df_dea_test.copy()\n",
    "trade=df[df['Direction']!=\"\"].copy()\n",
    "fig,ax=plt.subplots(3,1,figsize=(15,15))\n",
    "\n",
    "ax1=plt.subplot(311)\n",
    "ax1.plot(df.index,df['Cum_Price_Returns'],color='y',label='Price')\n",
    "ax1.plot(df.index,df['Cum_Strategy_Returns'],color='b',label='Strategy')\n",
    "mark_trade(trade,'Cum_Price_Returns')\n",
    "ax1.legend(loc='upper left')\n",
    "\n",
    "ax4=ax1.twinx()\n",
    "ax4.plot(df.index,df['Position'],c='black',ls=':')\n",
    "ax4.set_ylabel('Position',color='black')\n",
    "ax4.tick_params('y',colors='r')\n",
    "\n",
    "ax2=plt.subplot(312)\n",
    "ax2.plot(df.index,df['close'],c='b')\n",
    "mark_trade(trade)\n",
    "ax2.set_ylabel('close')\n",
    "\n",
    "ax3=plt.subplot(313)\n",
    "plt.axhline(y=0.0,c='black',lw=2,ls='--')\n",
    "ax3.plot(df.index,df['dea'],color='g',label='dea')\n",
    "ax3.plot(df.index,df['dif'],color='r',label='dif')\n",
    "ax3.set_ylabel('macd')\n",
    "ax3.legend()\n",
    "\n",
    "plt.show()"
   ]
  },
  {
   "cell_type": "code",
   "execution_count": null,
   "id": "999de9cc",
   "metadata": {},
   "outputs": [],
   "source": [
    "df=df_sma_test.copy()\n",
    "trade=df[df['Direction']!=\"\"].copy()\n",
    "fig,ax=plt.subplots(3,1,figsize=(15,15))\n",
    "\n",
    "ax1=plt.subplot(311)\n",
    "ax1.plot(df.index,df['Cum_Price_Returns'],color='g',label='Price')\n",
    "ax1.plot(df.index,df['Cum_Strategy_Returns'],color='b',label='Strategy')\n",
    "mark_trade(trade,'Cum_Price_Returns')\n",
    "ax1.legend(loc='upper left')\n",
    "\n",
    "ax4=ax1.twinx()\n",
    "ax4.plot(df.index,df['Position'],c='black',ls=':', label='Position')\n",
    "ax4.set_ylabel('Position',color='black')\n",
    "ax4.tick_params('y',colors='r')\n",
    "ax4.legend(loc='lower left')\n",
    "\n",
    "ax2=plt.subplot(312)\n",
    "ax2.plot(df.index,df['close'],c='b')\n",
    "mark_trade(df)\n",
    "ax2.set_ylabel('close')\n",
    "\n",
    "ax3=plt.subplot(313)\n",
    "plt.axhline(y=0.0,c='black',lw=2,ls='--')\n",
    "ax3.plot(df.index,df['sma1'],color='g',label='short')\n",
    "ax3.plot(df.index,df['sma2'],color='r',label='long')\n",
    "ax3.set_ylabel('sma')\n",
    "ax3.legend()\n",
    "\n",
    "plt.show()"
   ]
  },
  {
   "cell_type": "code",
   "execution_count": null,
   "id": "dab956a9",
   "metadata": {},
   "outputs": [],
   "source": [
    "fig, ax = plt.subplots(1,1,figsize=(10,6))\n",
    "ax1 = plt.subplot(111)\n",
    "\n",
    "ax1.plot(df_sma_test.index,df_sma_test['Cum_Price_Returns'],color='r',label='Price')\n",
    "ax1.plot(df_sma_test.index,df_sma_test['Cum_Strategy_Returns'],color='g',label='SMA')\n",
    "ax1.plot(df_sma_test.index,df_ema_test['Cum_Strategy_Returns'],color='b',label='EMA')\n",
    "ax1.plot(df_sma_test.index,df_dea_test['Cum_Strategy_Returns'],color='y',label='DEA')\n",
    "\n",
    "plt.axhline(y=0.0,c='black',lw=1,ls='--')\n",
    "plt.legend()\n",
    "plt.show()"
   ]
  },
  {
   "cell_type": "code",
   "execution_count": null,
   "id": "748ecace",
   "metadata": {},
   "outputs": [],
   "source": [
    "import time\n",
    "from datetime import datetime"
   ]
  },
  {
   "cell_type": "code",
   "execution_count": null,
   "id": "25bce028",
   "metadata": {},
   "outputs": [],
   "source": [
    "time.strftime('%Y-%m-%d %X', time.localtime(1574035200))"
   ]
  },
  {
   "cell_type": "code",
   "execution_count": null,
   "id": "c7b3fb0c",
   "metadata": {},
   "outputs": [],
   "source": [
    "1574035200"
   ]
  }
 ],
 "metadata": {
  "kernelspec": {
   "display_name": "Python 3 (ipykernel)",
   "language": "python",
   "name": "python3"
  },
  "language_info": {
   "codemirror_mode": {
    "name": "ipython",
    "version": 3
   },
   "file_extension": ".py",
   "mimetype": "text/x-python",
   "name": "python",
   "nbconvert_exporter": "python",
   "pygments_lexer": "ipython3",
   "version": "3.9.12"
  }
 },
 "nbformat": 4,
 "nbformat_minor": 5
}
