{
 "cells": [
  {
   "cell_type": "code",
   "execution_count": 1,
   "id": "f9a5c637",
   "metadata": {},
   "outputs": [],
   "source": [
    "import os\n",
    "import json\n",
    "import pandas as pd\n",
    "import numpy as np\n",
    "from urllib.parse import urlencode\n",
    "import requests\n",
    "import codecs\n",
    "import time\n",
    "import datetime"
   ]
  },
  {
   "cell_type": "code",
   "execution_count": 2,
   "id": "093f1203",
   "metadata": {},
   "outputs": [],
   "source": [
    "from DataRead import Read\n",
    "from Tactic import MACD, SMA"
   ]
  },
  {
   "cell_type": "code",
   "execution_count": 31,
   "id": "6107bb50",
   "metadata": {},
   "outputs": [],
   "source": [
    "read=Read()\n",
    "kline=read.read_kline(freq_type='1d',market='ETHUSDT')\n",
    "\n",
    "macd=MACD()\n",
    "df_macd=macd.ema_tac(df=kline,short=12,long=26,median=9)\n",
    "\n",
    "sma=SMA()\n",
    "df_sma=sma.sma_tac(df=kline, sma1=12, sma2=26)"
   ]
  },
  {
   "cell_type": "code",
   "execution_count": 33,
   "id": "752ee4bf",
   "metadata": {},
   "outputs": [
    {
     "name": "stdout",
     "output_type": "stream",
     "text": [
      "Price return for MACD: -0.67\n",
      "Strategy return for MACD: 2.50\n",
      "Price return for SMA: -0.67\n",
      "Strategy return for SMA: 2.42\n"
     ]
    }
   ],
   "source": [
    "window=300\n",
    "df_macd_test=df_macd.tail(window).copy()\n",
    "df_sma_test=df_sma.tail(window).copy()\n",
    "\n",
    "print('Price return for MACD: %.2f'%(macd.base_return(df_macd_test)-1))\n",
    "print('Strategy return for MACD: %.2f'%(macd.tac_return(df_macd_test)-1))\n",
    "\n",
    "print('Price return for SMA: %.2f'%(sma.base_return(df_sma_test)-1))\n",
    "print('Strategy return for SMA: %.2f'%(sma.tac_return(df_sma_test)-1))"
   ]
  },
  {
   "cell_type": "code",
   "execution_count": null,
   "id": "49ac66b4",
   "metadata": {},
   "outputs": [],
   "source": []
  }
 ],
 "metadata": {
  "kernelspec": {
   "display_name": "Python 3 (ipykernel)",
   "language": "python",
   "name": "python3"
  },
  "language_info": {
   "codemirror_mode": {
    "name": "ipython",
    "version": 3
   },
   "file_extension": ".py",
   "mimetype": "text/x-python",
   "name": "python",
   "nbconvert_exporter": "python",
   "pygments_lexer": "ipython3",
   "version": "3.9.12"
  }
 },
 "nbformat": 4,
 "nbformat_minor": 5
}
