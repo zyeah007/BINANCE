{
 "cells": [
  {
   "cell_type": "code",
   "execution_count": null,
   "id": "f9a5c637",
   "metadata": {},
   "outputs": [],
   "source": [
    "import os\n",
    "import json\n",
    "import pandas as pd\n",
    "import numpy as np\n",
    "from urllib.parse import urlencode\n",
    "import requests\n",
    "import codecs\n",
    "import time\n",
    "from DataRead import Read\n",
    "\n",
    "import datetime"
   ]
  },
  {
   "cell_type": "code",
   "execution_count": 2,
   "id": "aeafe8e7",
   "metadata": {},
   "outputs": [],
   "source": [
    "read=Read()\n",
    "kline = read.read_kline('1d','ETHUSDT')\n",
    "latest_ts=kline.index.max()\n",
    "\n",
    "latest_ts=str(latest_ts)\n",
    "latest_ts=int(time.mktime(time.strptime(latest_ts,'%Y-%m-%d %X'))*1000)"
   ]
  },
  {
   "cell_type": "code",
   "execution_count": 4,
   "id": "fc8818ec",
   "metadata": {},
   "outputs": [
    {
     "data": {
      "text/plain": [
       "pandas.core.indexes.datetimes.DatetimeIndex"
      ]
     },
     "execution_count": 4,
     "metadata": {},
     "output_type": "execute_result"
    }
   ],
   "source": [
    "type(kline.index)"
   ]
  },
  {
   "cell_type": "code",
   "execution_count": 16,
   "id": "1801192e",
   "metadata": {},
   "outputs": [
    {
     "data": {
      "text/plain": [
       "True"
      ]
     },
     "execution_count": 16,
     "metadata": {},
     "output_type": "execute_result"
    }
   ],
   "source": [
    "isinstance(kline.index,pd.core.indexes.datetimes.DatetimeIndex)"
   ]
  },
  {
   "cell_type": "code",
   "execution_count": 13,
   "id": "1878f3b2",
   "metadata": {},
   "outputs": [
    {
     "data": {
      "text/plain": [
       "pandas.core.frame.DataFrame"
      ]
     },
     "execution_count": 13,
     "metadata": {},
     "output_type": "execute_result"
    }
   ],
   "source": [
    "type(kline)"
   ]
  },
  {
   "cell_type": "code",
   "execution_count": 14,
   "id": "96d2f99d",
   "metadata": {},
   "outputs": [
    {
     "ename": "AttributeError",
     "evalue": "module 'pandas.core' has no attribute 'DataFrame'",
     "output_type": "error",
     "traceback": [
      "\u001b[0;31m---------------------------------------------------------------------------\u001b[0m",
      "\u001b[0;31mAttributeError\u001b[0m                            Traceback (most recent call last)",
      "Input \u001b[0;32mIn [14]\u001b[0m, in \u001b[0;36m<cell line: 1>\u001b[0;34m()\u001b[0m\n\u001b[0;32m----> 1\u001b[0m \u001b[38;5;28misinstance\u001b[39m(kline,\u001b[43mpd\u001b[49m\u001b[38;5;241;43m.\u001b[39;49m\u001b[43mcore\u001b[49m\u001b[38;5;241;43m.\u001b[39;49m\u001b[43mDataFrame\u001b[49m)\n",
      "\u001b[0;31mAttributeError\u001b[0m: module 'pandas.core' has no attribute 'DataFrame'"
     ]
    }
   ],
   "source": [
    "isinstance(kline,pd.DataFrame)"
   ]
  },
  {
   "cell_type": "code",
   "execution_count": 41,
   "id": "c93a58fb",
   "metadata": {},
   "outputs": [
    {
     "data": {
      "text/plain": [
       "Timestamp('2019-11-18 08:00:00')"
      ]
     },
     "execution_count": 41,
     "metadata": {},
     "output_type": "execute_result"
    }
   ],
   "source": [
    "kline.index.min()"
   ]
  },
  {
   "cell_type": "code",
   "execution_count": 2,
   "id": "12dde096",
   "metadata": {},
   "outputs": [],
   "source": [
    "read=Read()\n",
    "merge=read.merge_kline(freq_type='1d',col='close',market_list=['BTCUSDT','ETHUSDT'])"
   ]
  },
  {
   "cell_type": "code",
   "execution_count": 5,
   "id": "d88082cf",
   "metadata": {},
   "outputs": [],
   "source": [
    "merge['price_ratio'] = merge['BTCUSDT'] / merge['ETHUSDT']"
   ]
  },
  {
   "cell_type": "code",
   "execution_count": 6,
   "id": "bfa9bb75",
   "metadata": {},
   "outputs": [
    {
     "data": {
      "text/plain": [
       "<AxesSubplot:xlabel='timestamp'>"
      ]
     },
     "execution_count": 6,
     "metadata": {},
     "output_type": "execute_result"
    },
    {
     "data": {
      "image/png": "[encoded data removed]",
      "text/plain": [
       "<Figure size 720x432 with 1 Axes>"
      ]
     },
     "metadata": {
      "needs_background": "light"
     },
     "output_type": "display_data"
    }
   ],
   "source": [
    "merge['price_ratio'].plot(figsize=(10,6))"
   ]
  },
  {
   "cell_type": "code",
   "execution_count": 7,
   "id": "f12dae94",
   "metadata": {},
   "outputs": [],
   "source": [
    "read=Read()\n",
    "kline = read.read_kline('1d','ETHUSDT')"
   ]
  },
  {
   "cell_type": "code",
   "execution_count": 10,
   "id": "4ce0ca1c",
   "metadata": {},
   "outputs": [
    {
     "data": {
      "text/plain": [
       "open_time           int64\n",
       "open               object\n",
       "high               object\n",
       "low                object\n",
       "close              object\n",
       "turnover_volume    object\n",
       "close_time          int64\n",
       "turnover_value     object\n",
       "deal_num            int64\n",
       "bid_volume         object\n",
       "bid_value          object\n",
       "other              object\n",
       "symbol             object\n",
       "dtype: object"
      ]
     },
     "execution_count": 10,
     "metadata": {},
     "output_type": "execute_result"
    }
   ],
   "source": [
    "kline.dtypes"
   ]
  },
  {
   "cell_type": "code",
   "execution_count": 11,
   "id": "08c71f10",
   "metadata": {},
   "outputs": [
    {
     "data": {
      "text/html": [
       "<div>\n",
       "<style scoped>\n",
       "    .dataframe tbody tr th:only-of-type {\n",
       "        vertical-align: middle;\n",
       "    }\n",
       "\n",
       "    .dataframe tbody tr th {\n",
       "        vertical-align: top;\n",
       "    }\n",
       "\n",
       "    .dataframe thead th {\n",
       "        text-align: right;\n",
       "    }\n",
       "</style>\n",
       "<table border=\"1\" class=\"dataframe\">\n",
       "  <thead>\n",
       "    <tr style=\"text-align: right;\">\n",
       "      <th></th>\n",
       "      <th>open_time</th>\n",
       "      <th>open</th>\n",
       "      <th>high</th>\n",
       "      <th>low</th>\n",
       "      <th>close</th>\n",
       "      <th>turnover_volume</th>\n",
       "      <th>close_time</th>\n",
       "      <th>turnover_value</th>\n",
       "      <th>deal_num</th>\n",
       "      <th>bid_volume</th>\n",
       "      <th>bid_value</th>\n",
       "      <th>other</th>\n",
       "      <th>symbol</th>\n",
       "    </tr>\n",
       "    <tr>\n",
       "      <th>timestamp</th>\n",
       "      <th></th>\n",
       "      <th></th>\n",
       "      <th></th>\n",
       "      <th></th>\n",
       "      <th></th>\n",
       "      <th></th>\n",
       "      <th></th>\n",
       "      <th></th>\n",
       "      <th></th>\n",
       "      <th></th>\n",
       "      <th></th>\n",
       "      <th></th>\n",
       "      <th></th>\n",
       "    </tr>\n",
       "  </thead>\n",
       "  <tbody>\n",
       "    <tr>\n",
       "      <th>2019-11-18 08:00:00</th>\n",
       "      <td>1574035200000</td>\n",
       "      <td>183.82000000</td>\n",
       "      <td>184.06000000</td>\n",
       "      <td>175.01000000</td>\n",
       "      <td>178.20000000</td>\n",
       "      <td>293551.23632000</td>\n",
       "      <td>1574121599999</td>\n",
       "      <td>52985734.28078390</td>\n",
       "      <td>131823</td>\n",
       "      <td>134230.72271000</td>\n",
       "      <td>24254035.07827020</td>\n",
       "      <td>0</td>\n",
       "      <td>ETHUSDT</td>\n",
       "    </tr>\n",
       "    <tr>\n",
       "      <th>2019-11-19 08:00:00</th>\n",
       "      <td>1574121600000</td>\n",
       "      <td>178.20000000</td>\n",
       "      <td>178.52000000</td>\n",
       "      <td>172.65000000</td>\n",
       "      <td>175.94000000</td>\n",
       "      <td>275886.64110000</td>\n",
       "      <td>1574207999999</td>\n",
       "      <td>48414106.95693360</td>\n",
       "      <td>125824</td>\n",
       "      <td>138098.32741000</td>\n",
       "      <td>24234932.99839650</td>\n",
       "      <td>0</td>\n",
       "      <td>ETHUSDT</td>\n",
       "    </tr>\n",
       "    <tr>\n",
       "      <th>2019-11-20 08:00:00</th>\n",
       "      <td>1574208000000</td>\n",
       "      <td>175.93000000</td>\n",
       "      <td>177.41000000</td>\n",
       "      <td>173.50000000</td>\n",
       "      <td>174.72000000</td>\n",
       "      <td>216315.93309000</td>\n",
       "      <td>1574294399999</td>\n",
       "      <td>38001672.19309860</td>\n",
       "      <td>106534</td>\n",
       "      <td>105958.65927000</td>\n",
       "      <td>18616351.33195330</td>\n",
       "      <td>0</td>\n",
       "      <td>ETHUSDT</td>\n",
       "    </tr>\n",
       "    <tr>\n",
       "      <th>2019-11-21 08:00:00</th>\n",
       "      <td>1574294400000</td>\n",
       "      <td>174.75000000</td>\n",
       "      <td>175.85000000</td>\n",
       "      <td>157.26000000</td>\n",
       "      <td>161.01000000</td>\n",
       "      <td>473895.92992000</td>\n",
       "      <td>1574380799999</td>\n",
       "      <td>78641896.23038060</td>\n",
       "      <td>178521</td>\n",
       "      <td>234632.37028000</td>\n",
       "      <td>38906646.50159150</td>\n",
       "      <td>0</td>\n",
       "      <td>ETHUSDT</td>\n",
       "    </tr>\n",
       "    <tr>\n",
       "      <th>2019-11-22 08:00:00</th>\n",
       "      <td>1574380800000</td>\n",
       "      <td>161.02000000</td>\n",
       "      <td>162.79000000</td>\n",
       "      <td>138.00000000</td>\n",
       "      <td>149.56000000</td>\n",
       "      <td>977977.23794000</td>\n",
       "      <td>1574467199999</td>\n",
       "      <td>147595324.56439290</td>\n",
       "      <td>324167</td>\n",
       "      <td>460516.29463000</td>\n",
       "      <td>69562234.11476300</td>\n",
       "      <td>0</td>\n",
       "      <td>ETHUSDT</td>\n",
       "    </tr>\n",
       "  </tbody>\n",
       "</table>\n",
       "</div>"
      ],
      "text/plain": [
       "                         open_time          open          high           low  \\\n",
       "timestamp                                                                      \n",
       "2019-11-18 08:00:00  1574035200000  183.82000000  184.06000000  175.01000000   \n",
       "2019-11-19 08:00:00  1574121600000  178.20000000  178.52000000  172.65000000   \n",
       "2019-11-20 08:00:00  1574208000000  175.93000000  177.41000000  173.50000000   \n",
       "2019-11-21 08:00:00  1574294400000  174.75000000  175.85000000  157.26000000   \n",
       "2019-11-22 08:00:00  1574380800000  161.02000000  162.79000000  138.00000000   \n",
       "\n",
       "                            close  turnover_volume     close_time  \\\n",
       "timestamp                                                           \n",
       "2019-11-18 08:00:00  178.20000000  293551.23632000  1574121599999   \n",
       "2019-11-19 08:00:00  175.94000000  275886.64110000  1574207999999   \n",
       "2019-11-20 08:00:00  174.72000000  216315.93309000  1574294399999   \n",
       "2019-11-21 08:00:00  161.01000000  473895.92992000  1574380799999   \n",
       "2019-11-22 08:00:00  149.56000000  977977.23794000  1574467199999   \n",
       "\n",
       "                         turnover_value  deal_num       bid_volume  \\\n",
       "timestamp                                                            \n",
       "2019-11-18 08:00:00   52985734.28078390    131823  134230.72271000   \n",
       "2019-11-19 08:00:00   48414106.95693360    125824  138098.32741000   \n",
       "2019-11-20 08:00:00   38001672.19309860    106534  105958.65927000   \n",
       "2019-11-21 08:00:00   78641896.23038060    178521  234632.37028000   \n",
       "2019-11-22 08:00:00  147595324.56439290    324167  460516.29463000   \n",
       "\n",
       "                             bid_value other   symbol  \n",
       "timestamp                                              \n",
       "2019-11-18 08:00:00  24254035.07827020     0  ETHUSDT  \n",
       "2019-11-19 08:00:00  24234932.99839650     0  ETHUSDT  \n",
       "2019-11-20 08:00:00  18616351.33195330     0  ETHUSDT  \n",
       "2019-11-21 08:00:00  38906646.50159150     0  ETHUSDT  \n",
       "2019-11-22 08:00:00  69562234.11476300     0  ETHUSDT  "
      ]
     },
     "execution_count": 11,
     "metadata": {},
     "output_type": "execute_result"
    }
   ],
   "source": [
    "kline.head()"
   ]
  },
  {
   "cell_type": "code",
   "execution_count": 13,
   "id": "7851ab14",
   "metadata": {},
   "outputs": [
    {
     "data": {
      "text/plain": [
       "'b'"
      ]
     },
     "execution_count": 13,
     "metadata": {},
     "output_type": "execute_result"
    }
   ],
   "source": [
    "a=['a','b','c']\n",
    "a.pop(1)"
   ]
  },
  {
   "cell_type": "code",
   "execution_count": 15,
   "id": "66673a56",
   "metadata": {},
   "outputs": [
    {
     "data": {
      "text/plain": [
       "timestamp\n",
       "2019-11-18 08:00:00     184.06\n",
       "2019-11-19 08:00:00     178.52\n",
       "2019-11-20 08:00:00     177.41\n",
       "2019-11-21 08:00:00     175.85\n",
       "2019-11-22 08:00:00     162.79\n",
       "                        ...   \n",
       "2022-08-10 08:00:00    1885.00\n",
       "2022-08-11 08:00:00    1942.00\n",
       "2022-08-12 08:00:00    1964.71\n",
       "2022-08-13 08:00:00    2020.00\n",
       "2022-08-14 08:00:00    2029.11\n",
       "Name: high, Length: 1001, dtype: float64"
      ]
     },
     "execution_count": 15,
     "metadata": {},
     "output_type": "execute_result"
    }
   ],
   "source": [
    "pd.to_numeric(kline['high'])"
   ]
  },
  {
   "cell_type": "code",
   "execution_count": null,
   "id": "87ede08e",
   "metadata": {},
   "outputs": [],
   "source": []
  }
 ],
 "metadata": {
  "kernelspec": {
   "display_name": "Python 3 (ipykernel)",
   "language": "python",
   "name": "python3"
  },
  "language_info": {
   "codemirror_mode": {
    "name": "ipython",
    "version": 3
   },
   "file_extension": ".py",
   "mimetype": "text/x-python",
   "name": "python",
   "nbconvert_exporter": "python",
   "pygments_lexer": "ipython3",
   "version": "3.9.12"
  }
 },
 "nbformat": 4,
 "nbformat_minor": 5
}
