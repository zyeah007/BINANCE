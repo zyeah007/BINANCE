{
 "cells": [
  {
   "cell_type": "code",
   "execution_count": 1,
   "id": "f9a5c637",
   "metadata": {},
   "outputs": [],
   "source": [
    "import os\n",
    "import json\n",
    "import pandas as pd\n",
    "import numpy as np\n",
    "from urllib.parse import urlencode\n",
    "import requests\n",
    "import codecs\n",
    "import time\n",
    "from DataRead import Read\n",
    "\n",
    "import datetime"
   ]
  },
  {
   "cell_type": "code",
   "execution_count": 9,
   "id": "aeafe8e7",
   "metadata": {},
   "outputs": [],
   "source": [
    "read=Read()\n",
    "kline = read.read_kline('1d','ETHUSDT')\n",
    "latest_ts=kline.index.max()\n",
    "\n",
    "latest_ts=str(latest_ts)\n",
    "latest_ts=int(time.mktime(time.strptime(latest_ts,'%Y-%m-%d %X'))*1000)"
   ]
  },
  {
   "cell_type": "code",
   "execution_count": 10,
   "id": "c93a58fb",
   "metadata": {},
   "outputs": [
    {
     "data": {
      "text/plain": [
       "Timestamp('2022-09-04 08:00:00')"
      ]
     },
     "execution_count": 10,
     "metadata": {},
     "output_type": "execute_result"
    }
   ],
   "source": [
    "kline.index.max()"
   ]
  },
  {
   "cell_type": "code",
   "execution_count": 11,
   "id": "966ebdb3",
   "metadata": {},
   "outputs": [
    {
     "data": {
      "text/html": [
       "<div>\n",
       "<style scoped>\n",
       "    .dataframe tbody tr th:only-of-type {\n",
       "        vertical-align: middle;\n",
       "    }\n",
       "\n",
       "    .dataframe tbody tr th {\n",
       "        vertical-align: top;\n",
       "    }\n",
       "\n",
       "    .dataframe thead th {\n",
       "        text-align: right;\n",
       "    }\n",
       "</style>\n",
       "<table border=\"1\" class=\"dataframe\">\n",
       "  <thead>\n",
       "    <tr style=\"text-align: right;\">\n",
       "      <th></th>\n",
       "      <th>open_time</th>\n",
       "      <th>open</th>\n",
       "      <th>high</th>\n",
       "      <th>low</th>\n",
       "      <th>close</th>\n",
       "      <th>turnover_volume</th>\n",
       "      <th>close_time</th>\n",
       "      <th>turnover_value</th>\n",
       "      <th>deal_num</th>\n",
       "      <th>bid_volume</th>\n",
       "      <th>bid_value</th>\n",
       "      <th>other</th>\n",
       "      <th>symbol</th>\n",
       "    </tr>\n",
       "    <tr>\n",
       "      <th>timestamp</th>\n",
       "      <th></th>\n",
       "      <th></th>\n",
       "      <th></th>\n",
       "      <th></th>\n",
       "      <th></th>\n",
       "      <th></th>\n",
       "      <th></th>\n",
       "      <th></th>\n",
       "      <th></th>\n",
       "      <th></th>\n",
       "      <th></th>\n",
       "      <th></th>\n",
       "      <th></th>\n",
       "    </tr>\n",
       "  </thead>\n",
       "  <tbody>\n",
       "    <tr>\n",
       "      <th>2019-11-18 08:00:00</th>\n",
       "      <td>1574035200000</td>\n",
       "      <td>183.82</td>\n",
       "      <td>184.06</td>\n",
       "      <td>175.01</td>\n",
       "      <td>178.20</td>\n",
       "      <td>293551.23632</td>\n",
       "      <td>1574121599999</td>\n",
       "      <td>5.298573e+07</td>\n",
       "      <td>131823</td>\n",
       "      <td>134230.72271</td>\n",
       "      <td>2.425404e+07</td>\n",
       "      <td>0</td>\n",
       "      <td>ETHUSDT</td>\n",
       "    </tr>\n",
       "    <tr>\n",
       "      <th>2019-11-19 08:00:00</th>\n",
       "      <td>1574121600000</td>\n",
       "      <td>178.20</td>\n",
       "      <td>178.52</td>\n",
       "      <td>172.65</td>\n",
       "      <td>175.94</td>\n",
       "      <td>275886.64110</td>\n",
       "      <td>1574207999999</td>\n",
       "      <td>4.841411e+07</td>\n",
       "      <td>125824</td>\n",
       "      <td>138098.32741</td>\n",
       "      <td>2.423493e+07</td>\n",
       "      <td>0</td>\n",
       "      <td>ETHUSDT</td>\n",
       "    </tr>\n",
       "  </tbody>\n",
       "</table>\n",
       "</div>"
      ],
      "text/plain": [
       "                         open_time    open    high     low   close  \\\n",
       "timestamp                                                            \n",
       "2019-11-18 08:00:00  1574035200000  183.82  184.06  175.01  178.20   \n",
       "2019-11-19 08:00:00  1574121600000  178.20  178.52  172.65  175.94   \n",
       "\n",
       "                     turnover_volume     close_time  turnover_value  deal_num  \\\n",
       "timestamp                                                                       \n",
       "2019-11-18 08:00:00     293551.23632  1574121599999    5.298573e+07    131823   \n",
       "2019-11-19 08:00:00     275886.64110  1574207999999    4.841411e+07    125824   \n",
       "\n",
       "                       bid_volume     bid_value other   symbol  \n",
       "timestamp                                                       \n",
       "2019-11-18 08:00:00  134230.72271  2.425404e+07     0  ETHUSDT  \n",
       "2019-11-19 08:00:00  138098.32741  2.423493e+07     0  ETHUSDT  "
      ]
     },
     "execution_count": 11,
     "metadata": {},
     "output_type": "execute_result"
    }
   ],
   "source": [
    "kline.head(2)"
   ]
  },
  {
   "cell_type": "code",
   "execution_count": 15,
   "id": "87ede08e",
   "metadata": {},
   "outputs": [],
   "source": [
    "kline['EMA12']=kline['close'].ewm(span=12,min_periods=12,adjust=False).mean()\n",
    "kline['EMA26']=kline['close'].ewm(span=26,min_periods=26,adjust=False).mean()\n",
    "kline['DIF']=kline['EMA12'] - kline['EMA26']\n",
    "kline['DEA'] = kline['DIF'].ewm(span=9,min_periods=9,adjust=False).mean()\n",
    "kline['MACD']=2*(kline['DIF']-kline['DEA'])"
   ]
  },
  {
   "cell_type": "code",
   "execution_count": 16,
   "id": "9d43347f",
   "metadata": {},
   "outputs": [
    {
     "data": {
      "text/plain": [
       "count    989.000000\n",
       "mean      -0.173466\n",
       "std       68.873466\n",
       "min     -458.745989\n",
       "25%      -19.314050\n",
       "50%        1.949797\n",
       "75%       25.660376\n",
       "max      206.294787\n",
       "Name: MACD, dtype: float64"
      ]
     },
     "execution_count": 16,
     "metadata": {},
     "output_type": "execute_result"
    }
   ],
   "source": [
    "kline['MACD'].describe()"
   ]
  },
  {
   "cell_type": "code",
   "execution_count": null,
   "id": "2528f96d",
   "metadata": {},
   "outputs": [],
   "source": []
  }
 ],
 "metadata": {
  "kernelspec": {
   "display_name": "Python 3 (ipykernel)",
   "language": "python",
   "name": "python3"
  },
  "language_info": {
   "codemirror_mode": {
    "name": "ipython",
    "version": 3
   },
   "file_extension": ".py",
   "mimetype": "text/x-python",
   "name": "python",
   "nbconvert_exporter": "python",
   "pygments_lexer": "ipython3",
   "version": "3.9.12"
  }
 },
 "nbformat": 4,
 "nbformat_minor": 5
}
