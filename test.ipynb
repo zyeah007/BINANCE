{
 "cells": [
  {
   "cell_type": "code",
   "execution_count": 1,
   "id": "f9a5c637",
   "metadata": {},
   "outputs": [],
   "source": [
    "import os\n",
    "import json\n",
    "import pandas as pd\n",
    "import numpy as np\n",
    "from urllib.parse import urlencode\n",
    "import requests\n",
    "import codecs\n",
    "import time\n",
    "import datetime"
   ]
  },
  {
   "cell_type": "code",
   "execution_count": 2,
   "id": "093f1203",
   "metadata": {},
   "outputs": [],
   "source": [
    "from DataRead import Read\n",
    "from Tactic import MACD, SMA"
   ]
  },
  {
   "cell_type": "code",
   "execution_count": 17,
   "id": "6107bb50",
   "metadata": {},
   "outputs": [],
   "source": [
    "read=Read()\n",
    "kline=read.read_kline(freq_type='1d',market='EOSUSDT')\n",
    "short_flag = True\n",
    "\n",
    "macd=MACD()\n",
    "df_ema=macd.ema_tac(df=kline,short=12,long=26,median=9, enable_short=short_flag)\n",
    "df_dea=macd.dea_tac(df=kline,short=12, long=26, median=9,enable_short=short_flag)\n",
    "\n",
    "sma=SMA()\n",
    "df_sma=sma.sma_tac(df=kline, sma1=12, sma2=26,enable_short=short_flag)\n",
    "\n",
    "window=200\n",
    "df_ema_test=df_ema.tail(window).copy()\n",
    "df_dea_test=df_dea.tail(window).copy()\n",
    "df_sma_test=df_sma.tail(window).copy()\n",
    "\n",
    "ema={\n",
    "    'tac_name':'ema',\n",
    "    'price_return':macd.base_return(df_ema_test)-1,\n",
    "    'strategy_return':macd.tac_return(df_ema_test)-1,\n",
    "    'price_drawdown':macd.max_price_drop(df_ema_test),\n",
    "    'strategy_drawdown':macd.max_tac_drawdown(df_ema_test),\n",
    "    \n",
    "}\n",
    "\n",
    "dea={\n",
    "    'tac_name':'dea',\n",
    "    'price_return':macd.base_return(df_dea_test)-1,\n",
    "    'strategy_return':macd.tac_return(df_dea_test)-1,\n",
    "    'price_drawdown':macd.max_price_drop(df_dea_test),\n",
    "    'strategy_drawdown':macd.max_tac_drawdown(df_dea_test),\n",
    "    \n",
    "}\n",
    "\n",
    "sma={\n",
    "    'tac_name':'sma',\n",
    "    'price_return':sma.base_return(df_sma_test)-1,\n",
    "    'strategy_return':sma.tac_return(df_sma_test)-1,\n",
    "    'price_drawdown':sma.max_price_drop(df_sma_test),\n",
    "    'strategy_drawdown':sma.max_tac_drawdown(df_sma_test),\n",
    "    \n",
    "}\n",
    "\n",
    "df=pd.DataFrame([ema,dea,sma])"
   ]
  },
  {
   "cell_type": "code",
   "execution_count": 18,
   "id": "e8684973",
   "metadata": {},
   "outputs": [
    {
     "data": {
      "text/html": [
       "<div>\n",
       "<style scoped>\n",
       "    .dataframe tbody tr th:only-of-type {\n",
       "        vertical-align: middle;\n",
       "    }\n",
       "\n",
       "    .dataframe tbody tr th {\n",
       "        vertical-align: top;\n",
       "    }\n",
       "\n",
       "    .dataframe thead th {\n",
       "        text-align: right;\n",
       "    }\n",
       "</style>\n",
       "<table border=\"1\" class=\"dataframe\">\n",
       "  <thead>\n",
       "    <tr style=\"text-align: right;\">\n",
       "      <th></th>\n",
       "      <th>tac_name</th>\n",
       "      <th>price_return</th>\n",
       "      <th>strategy_return</th>\n",
       "      <th>price_drawdown</th>\n",
       "      <th>strategy_drawdown</th>\n",
       "    </tr>\n",
       "  </thead>\n",
       "  <tbody>\n",
       "    <tr>\n",
       "      <th>0</th>\n",
       "      <td>ema</td>\n",
       "      <td>-0.351107</td>\n",
       "      <td>0.794695</td>\n",
       "      <td>-0.5992</td>\n",
       "      <td>-0.4316</td>\n",
       "    </tr>\n",
       "    <tr>\n",
       "      <th>1</th>\n",
       "      <td>dea</td>\n",
       "      <td>-0.351107</td>\n",
       "      <td>0.174013</td>\n",
       "      <td>-0.5992</td>\n",
       "      <td>-0.1664</td>\n",
       "    </tr>\n",
       "    <tr>\n",
       "      <th>2</th>\n",
       "      <td>sma</td>\n",
       "      <td>-0.351107</td>\n",
       "      <td>0.420025</td>\n",
       "      <td>-0.5992</td>\n",
       "      <td>-0.3800</td>\n",
       "    </tr>\n",
       "  </tbody>\n",
       "</table>\n",
       "</div>"
      ],
      "text/plain": [
       "  tac_name  price_return  strategy_return  price_drawdown  strategy_drawdown\n",
       "0      ema     -0.351107         0.794695         -0.5992            -0.4316\n",
       "1      dea     -0.351107         0.174013         -0.5992            -0.1664\n",
       "2      sma     -0.351107         0.420025         -0.5992            -0.3800"
      ]
     },
     "execution_count": 18,
     "metadata": {},
     "output_type": "execute_result"
    }
   ],
   "source": [
    "df"
   ]
  },
  {
   "cell_type": "code",
   "execution_count": 5,
   "id": "7b059b0c",
   "metadata": {},
   "outputs": [],
   "source": [
    "# 格式输出\n",
    "# print('{:^10}|{:^20}|{:^20}'.format('Tac','Price Return','Strategy Return'))\n",
    "# print('{:^10}|{:^20.4f}|{:^20.4f}'.format('EMA',macd.base_return(df_ema_test)-1,macd.tac_return(df_ema_test)-1))\n",
    "# print('{:^10}|{:^20.4f}|{:^20.4f}'.format('DEA',macd.base_return(df_dea_test)-1,macd.tac_return(df_dea_test)-1))\n",
    "# print('{:^10}|{:^20.4f}|{:^20.4f}'.format('SMA',macd.base_return(df_sma_test)-1,macd.tac_return(df_sma_test)-1))"
   ]
  },
  {
   "cell_type": "code",
   "execution_count": 6,
   "id": "22591203",
   "metadata": {},
   "outputs": [],
   "source": [
    "# 统计每个策略下交易次数\n",
    "for test in [df_ema_test, df_dea_test, df_sma_test]:\n",
    "    test['pos_chg'] = test['Position'] - test['Position'].shift(1)"
   ]
  },
  {
   "cell_type": "code",
   "execution_count": 7,
   "id": "1dcb0902",
   "metadata": {},
   "outputs": [
    {
     "data": {
      "text/plain": [
       "pos_chg\n",
       "-2.0      1\n",
       "-1.0     13\n",
       " 0.0    271\n",
       " 1.0     14\n",
       "Name: Position, dtype: int64"
      ]
     },
     "execution_count": 7,
     "metadata": {},
     "output_type": "execute_result"
    }
   ],
   "source": [
    "df_dea_test.groupby(by='pos_chg')['Position'].count()"
   ]
  },
  {
   "cell_type": "code",
   "execution_count": 8,
   "id": "5ac1bd0e",
   "metadata": {},
   "outputs": [],
   "source": [
    "df_dea_test.to_excel('dea.xlsx')"
   ]
  },
  {
   "cell_type": "code",
   "execution_count": null,
   "id": "e7c1e67d",
   "metadata": {},
   "outputs": [],
   "source": []
  }
 ],
 "metadata": {
  "kernelspec": {
   "display_name": "Python 3 (ipykernel)",
   "language": "python",
   "name": "python3"
  },
  "language_info": {
   "codemirror_mode": {
    "name": "ipython",
    "version": 3
   },
   "file_extension": ".py",
   "mimetype": "text/x-python",
   "name": "python",
   "nbconvert_exporter": "python",
   "pygments_lexer": "ipython3",
   "version": "3.9.12"
  }
 },
 "nbformat": 4,
 "nbformat_minor": 5
}
