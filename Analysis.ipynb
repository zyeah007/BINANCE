{
 "cells": [
  {
   "cell_type": "markdown",
   "id": "51e57e95",
   "metadata": {},
   "source": [
    "# 分析尝试"
   ]
  },
  {
   "cell_type": "markdown",
   "id": "377c27c1",
   "metadata": {},
   "source": [
    "目的：  \n",
    "（1）判断出即将大幅上涨的币；  \n",
    "（2）判断出即将大幅下跌的币；  \n",
    "（3）配对交易，做无风险套利"
   ]
  },
  {
   "cell_type": "code",
   "execution_count": 1,
   "id": "5b6b6694",
   "metadata": {},
   "outputs": [],
   "source": [
    "import os\n",
    "from DataRead import Read, Analysis\n",
    "from DataQuery import Ticker, Kline, Query\n",
    "import pandas as pd\n",
    "import numpy as np\n",
    "import time\n",
    "import requests\n",
    "from Tactic import MACD, SMA, MultiTacs, Tactic\n",
    "import datetime\n",
    "# import talib\n",
    "%matplotlib inline\n",
    "import time\n",
    "from pyecharts.charts import Line\n",
    "import datetime\n",
    "from itertools import *\n",
    "from statsmodels.tsa.stattools import adfuller as ADF\n",
    "from tqdm import tqdm\n",
    "import math"
   ]
  },
  {
   "cell_type": "code",
   "execution_count": 4,
   "id": "b75caa36",
   "metadata": {},
   "outputs": [],
   "source": [
    "start='2023-1-1'\n",
    "end='2023-7-1'\n",
    "interval='4h'\n",
    "num=20\n",
    "threshold=0.0015\n",
    "pair=['BTCUSDT','ETHUSDT']\n",
    "analysis=Analysis()\n",
    "res=analysis.return_diff(market_pair=pair,interval=interval,start=start,end=end)"
   ]
  },
  {
   "cell_type": "code",
   "execution_count": 5,
   "id": "ce7d7fc6",
   "metadata": {},
   "outputs": [
    {
     "data": {
      "text/plain": [
       "{'market_1': 'BTCUSDT',\n",
       " 'market_2': 'ETHUSDT',\n",
       " 'return_diff': 0.000131,\n",
       " 'daily_diff': 0.000785,\n",
       " 'p_value': 0.0}"
      ]
     },
     "execution_count": 5,
     "metadata": {},
     "output_type": "execute_result"
    }
   ],
   "source": [
    "res"
   ]
  },
  {
   "cell_type": "code",
   "execution_count": null,
   "id": "f3bb0b2a",
   "metadata": {},
   "outputs": [],
   "source": [
    "start='2022-1-1'\n",
    "end='2023-6-18'\n",
    "line2=analysis.lineplot_individual_returns(markets=['TRXUSDT','JASMYUSDT'],interval='3d',start=start,end=end)\n",
    "line2.render_notebook()"
   ]
  },
  {
   "cell_type": "code",
   "execution_count": null,
   "id": "860e1b59",
   "metadata": {},
   "outputs": [],
   "source": [
    "analysis=Analysis()\n",
    "markets=['BTCUSDT','ETHUSDT']\n",
    "start='2023-1-1'\n",
    "end='2023-7-11'\n",
    "interval='1d'\n",
    "merge_return=analysis.merge_data_for_markets(markets=markets,start=start,end=end,interval=interval,col='Return')\n",
    "merge_return['diff']=merge_return[markets[0][:-4]]-merge_return[markets[1][:-4]]\n",
    "merge_return.dropna(subset=['diff'],inplace=True)\n",
    "\n",
    "line=analysis.pyecharts_line_plot(df=merge_return[['diff']])\n",
    "line.render_notebook()"
   ]
  },
  {
   "cell_type": "code",
   "execution_count": null,
   "id": "2f89a9cd",
   "metadata": {},
   "outputs": [],
   "source": [
    "ADF(merge_return['diff'])"
   ]
  },
  {
   "cell_type": "code",
   "execution_count": null,
   "id": "766a8d11",
   "metadata": {},
   "outputs": [],
   "source": [
    "start='2020-1-1'\n",
    "end='2023-6-18'\n",
    "line=analysis.plot_price_to_bench(markets=['ETHUSDT'],interval='1d',start=start,end=end,scaled=False)\n",
    "line.render_notebook()"
   ]
  },
  {
   "cell_type": "code",
   "execution_count": null,
   "id": "5b1b9c2d",
   "metadata": {},
   "outputs": [],
   "source": []
  },
  {
   "cell_type": "code",
   "execution_count": null,
   "id": "ba19c8e6",
   "metadata": {},
   "outputs": [],
   "source": []
  },
  {
   "cell_type": "code",
   "execution_count": null,
   "id": "9f82b4ac",
   "metadata": {},
   "outputs": [],
   "source": [
    "markets=['ETHUSDT', 'BTCUSDT', 'DOGEUSDT']\n",
    "start='2023-1-1'\n",
    "end='2023-6-17'\n",
    "window=1\n",
    "# line=analysis.plot_price_volatility(markets=markets, interval='3d',start=start, end=end)\n",
    "line=analysis.plot_high_above_close(markets=markets, interval='1d',start=start, end=end,window=window)\n",
    "line.render_notebook()"
   ]
  },
  {
   "cell_type": "code",
   "execution_count": null,
   "id": "063a1b72",
   "metadata": {},
   "outputs": [],
   "source": []
  },
  {
   "cell_type": "code",
   "execution_count": null,
   "id": "ae665118",
   "metadata": {},
   "outputs": [],
   "source": [
    "read=Read()\n",
    "eth=read.read_kline(market='ETHUSDT',freq_type='1d')['close']\n",
    "btc=read.read_kline(market='BTCUSDT',freq_type='1d')['close']\n",
    "eth=eth.loc[start:end].copy()\n",
    "btc=btc.loc[start:end].copy()\n",
    "df=eth/btc"
   ]
  },
  {
   "cell_type": "code",
   "execution_count": null,
   "id": "c7d01c0f",
   "metadata": {},
   "outputs": [],
   "source": [
    "df.plot()"
   ]
  },
  {
   "cell_type": "code",
   "execution_count": null,
   "id": "96953152",
   "metadata": {},
   "outputs": [],
   "source": []
  },
  {
   "cell_type": "code",
   "execution_count": null,
   "id": "9073affc",
   "metadata": {},
   "outputs": [],
   "source": []
  },
  {
   "cell_type": "markdown",
   "id": "9b58095f",
   "metadata": {},
   "source": [
    "最近一个月表现最好的货币"
   ]
  },
  {
   "cell_type": "code",
   "execution_count": null,
   "id": "aba1854b",
   "metadata": {},
   "outputs": [],
   "source": [
    "start='2023-2-1'\n",
    "end='2023-2-28'\n",
    "best10=analysis.best_performed_of_last_n(interval='1d',start=start, end=end)"
   ]
  },
  {
   "cell_type": "code",
   "execution_count": null,
   "id": "2ab0aad1",
   "metadata": {},
   "outputs": [],
   "source": [
    "best10"
   ]
  },
  {
   "cell_type": "code",
   "execution_count": null,
   "id": "aeef082f",
   "metadata": {},
   "outputs": [],
   "source": [
    "tgt_mkts = best10['symbol'].values\n",
    "start='2023-1-1'\n",
    "end='2023-6-10'\n",
    "line=analysis.lineplot_accumulative_returns(markets=tgt_mkts,interval='1d',start=start,end=end)\n",
    "line.render_notebook()"
   ]
  },
  {
   "cell_type": "code",
   "execution_count": null,
   "id": "71291e6e",
   "metadata": {},
   "outputs": [],
   "source": [
    "line=analysis.lineplot_accumulative_returns(markets=tgt_mkts,interval='1d',start=start,end=end)\n",
    "line.render_notebook()"
   ]
  },
  {
   "cell_type": "code",
   "execution_count": null,
   "id": "881ab561",
   "metadata": {},
   "outputs": [],
   "source": [
    "start='2023-1-1'\n",
    "end='2023-12-31'\n",
    "market_shares = analysis.turnover_value_share(start=start,end=end)\n",
    "big10=market_shares.iloc[:10]"
   ]
  },
  {
   "cell_type": "code",
   "execution_count": null,
   "id": "31544bd5",
   "metadata": {},
   "outputs": [],
   "source": [
    "start='2023-1-1'\n",
    "end='2023-6-10'\n",
    "big10_markets=big10['symbol'].values\n",
    "line_big10=analysis.lineplot_accumulative_returns(markets=big10_markets,interval='1d',start=start, end=end)\n",
    "line_big10.render_notebook()"
   ]
  },
  {
   "cell_type": "markdown",
   "id": "a3f562c4",
   "metadata": {},
   "source": [
    "2023年1月表现最好货币，在接下来的表现："
   ]
  },
  {
   "cell_type": "code",
   "execution_count": null,
   "id": "1054e9b4",
   "metadata": {},
   "outputs": [],
   "source": []
  },
  {
   "cell_type": "markdown",
   "id": "29059b6f",
   "metadata": {},
   "source": [
    "计算成交额比重"
   ]
  },
  {
   "cell_type": "code",
   "execution_count": null,
   "id": "a717d484",
   "metadata": {},
   "outputs": [],
   "source": []
  },
  {
   "cell_type": "code",
   "execution_count": null,
   "id": "5b9d0d56",
   "metadata": {},
   "outputs": [],
   "source": []
  },
  {
   "cell_type": "code",
   "execution_count": null,
   "id": "b13e2f68",
   "metadata": {},
   "outputs": [],
   "source": []
  },
  {
   "cell_type": "code",
   "execution_count": null,
   "id": "9bec54d6",
   "metadata": {},
   "outputs": [],
   "source": [
    "sma=talib.SMA(close,timeperiod=12)"
   ]
  },
  {
   "cell_type": "code",
   "execution_count": null,
   "id": "9e956f25",
   "metadata": {},
   "outputs": [],
   "source": [
    "sma_ob=SMA()\n",
    "df2=sma_ob.sma_algorithm(df=df_kline)"
   ]
  },
  {
   "cell_type": "code",
   "execution_count": null,
   "id": "ea609584",
   "metadata": {},
   "outputs": [],
   "source": [
    "s_date='2017-10-1'\n",
    "today=datetime.datetime.today()\n",
    "e_date=today.strftime('%Y-%m-%d')\n",
    "short_flag = True\n",
    "tacs=['SMA','DEA','EMA']\n",
    "\n",
    "result=pd.DataFrame()\n",
    "for i in tqdm(range(0,len(usdt_markets))):\n",
    "    mkt = usdt_markets[i]\n",
    "    read=Read()\n",
    "    try:\n",
    "        path = os.path.join('/Users/zhengye/PycharmProjects/BINANCE/tradeData/kline/1d',mkt+'-1d.json')\n",
    "        if not os.path.exists(path):\n",
    "            continue\n",
    "        df_kline=read.read_kline(freq_type='1d',market=mkt)\n",
    "        multi_tacs=MultiTacs()\n",
    "        df_multi_tac_returns=multi_tacs.multi_tac_returns(df_kline,tacs=tacs, start=s_date, end=e_date,short_flag=short_flag)\n",
    "        df_multi_tac_returns['symbol']=mkt[:-4]\n",
    "        # result=result.append(df_multi_tac_returns)\n",
    "        result=pd.concat([result, df_multi_tac_returns.iloc[[0],:]],ignore_index=True)\n",
    "    except:\n",
    "        print(mkt)\n",
    "        continue\n",
    "reuslt=result.sort_values(by='strategy_diff',ascending=False)"
   ]
  },
  {
   "cell_type": "code",
   "execution_count": null,
   "id": "b357e4ad",
   "metadata": {},
   "outputs": [],
   "source": []
  },
  {
   "cell_type": "code",
   "execution_count": null,
   "id": "0d7dccac",
   "metadata": {},
   "outputs": [],
   "source": [
    "macd, macdsignal, macdhist = talib.MACD(close, fastperiod=12, slowperiod=26, signalperiod=9)"
   ]
  },
  {
   "cell_type": "code",
   "execution_count": null,
   "id": "f8cf2aea",
   "metadata": {},
   "outputs": [],
   "source": [
    "analysis.top_n_percent_change_markets()"
   ]
  },
  {
   "cell_type": "markdown",
   "id": "4e49697e",
   "metadata": {},
   "source": [
    "### 分析一、  \n",
    "从2020年1月开始，每个月收益表现最好的币，在接下来的1个月、3个月、6个月、1年、至今的表现"
   ]
  },
  {
   "cell_type": "code",
   "execution_count": null,
   "id": "4113d234",
   "metadata": {},
   "outputs": [],
   "source": [
    "best_of_202001=analysis.best_performed_of_last_n(n=30,interval='1d',end='20200131',num=10)"
   ]
  },
  {
   "cell_type": "code",
   "execution_count": null,
   "id": "14a33cfd",
   "metadata": {},
   "outputs": [],
   "source": [
    "start='2023-1-1'\n",
    "start=datetime.datetime.strptime(start,'%Y-%m-%d')\n",
    "two_weeks_after=(start+datetime.timedelta(weeks=2)).strftime('%Y-%m-%d')\n",
    "one_month_after=(start+datetime.timedelta(days=30)).strftime('%Y-%m-%d')\n",
    "three_month_after=(start+datetime.timedelta(days=30*3)).strftime('%Y-%m-%d')\n",
    "six_month_after=(start+datetime.timedelta(days=30*6)).strftime('%Y-%m-%d')\n",
    "\n",
    "start=start\n",
    "end=two_weeks_after\n",
    "best7_mkts=analysis.best_performed_of_last_n(interval='1d',start=start,end=end,num=7)['symbol'].values\n",
    "\n",
    "for end_date in [one_month_after, three_month_after, six_month_after]:\n",
    "    merge=analysis.merge_data_for_markets(markets=best7_mkts,interval='1d',start=start,end=end_date,col='AccumReturn')\n",
    "    print(merge)"
   ]
  }
 ],
 "metadata": {
  "kernelspec": {
   "display_name": "Python 3 (ipykernel)",
   "language": "python",
   "name": "python3"
  },
  "language_info": {
   "codemirror_mode": {
    "name": "ipython",
    "version": 3
   },
   "file_extension": ".py",
   "mimetype": "text/x-python",
   "name": "python",
   "nbconvert_exporter": "python",
   "pygments_lexer": "ipython3",
   "version": "3.9.13"
  }
 },
 "nbformat": 4,
 "nbformat_minor": 5
}
